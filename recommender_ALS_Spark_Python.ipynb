{
 "cells": [
  {
   "cell_type": "markdown",
   "metadata": {},
   "source": [
    "# Music Recommender System using ALS Algorithm with Apache Spark and Python\n",
    "+ **Estimated Execution Time (whole script): 2 minutes**\n",
    "+ **Estimated Time (to complete the project): 8 hours**\n",
    "\n",
    "## Description\n",
    "\n",
    "For this project, you are to create a recommender system that will recommend new musical artists to a user based on their listening history. Suggesting different songs or musical artists to a user is important to many music streaming services, such as Pandora and Spotify. In addition, this type of recommender system could also be used as a means of suggesting TV shows or movies to a user (e.g., Netflix). \n",
    "\n",
    "To create this system you will be using Spark and the collaborative filtering technique. The instructions for completing this project will be laid out entirely in this file. You will have to implement any missing code as well as answer any questions.\n",
    "\n",
    "**Submission Instructions:** \n",
    "* Add all of your updates to this Jupyter Notebook file and do NOT clear any of the output you get from running your code.\n",
    "* Upload this file and the genererated HTML onto Moodle as a single zip folder called with your user name.\n",
    "\n",
    "## Datasets\n",
    "\n",
    "You will be using some publicly available song data from audioscrobbler, which can be found [here](http://www-etud.iro.umontreal.ca/~bergstrj/audioscrobbler_data.html). However, we modified the original data files so that the code will run in a reasonable time on a single machine. The reduced data files have been suffixed with `_small.txt` and contains only the information relevant to the top 50 most prolific users (highest artist play counts).\n",
    "\n",
    "The original data file `user_artist_data.txt` contained about 141,000 unique users, and 1.6 million unique artists. About 24.2 million users’ plays of artists are recorded, along with their count.\n",
    "\n",
    "Note that when plays are scribbled, the client application submits the name of the artist being played. This name could be misspelled or nonstandard, and this may only be detected later. For example, \"The Smiths\", \"Smiths, The\", and \"the smiths\" may appear as distinct artist IDs in the data set, even though they clearly refer to the same artist. So, the data set includes `artist_alias.txt`, which maps artist IDs that are known misspellings or variants to the canonical ID of that artist.\n",
    "\n",
    "The `artist_data.txt` file then provides a map from the canonical artist ID to the name of the artist."
   ]
  },
  {
   "cell_type": "code",
   "execution_count": 57,
   "metadata": {},
   "outputs": [
    {
     "ename": "ValueError",
     "evalue": "Cannot run multiple SparkContexts at once; existing SparkContext(app=Project 2: Recommender System, master=local) created by __init__ at <ipython-input-1-cffe10b8ac6f>:12 ",
     "output_type": "error",
     "traceback": [
      "\u001b[0;31m---------------------------------------------------------------------------\u001b[0m",
      "\u001b[0;31mValueError\u001b[0m                                Traceback (most recent call last)",
      "\u001b[0;32m<ipython-input-57-cffe10b8ac6f>\u001b[0m in \u001b[0;36m<module>\u001b[0;34m()\u001b[0m\n\u001b[1;32m     10\u001b[0m \u001b[0;34m\u001b[0m\u001b[0m\n\u001b[1;32m     11\u001b[0m \u001b[0mconf\u001b[0m \u001b[0;34m=\u001b[0m \u001b[0mSparkConf\u001b[0m\u001b[0;34m(\u001b[0m\u001b[0;34m)\u001b[0m\u001b[0;34m.\u001b[0m\u001b[0msetMaster\u001b[0m\u001b[0;34m(\u001b[0m\u001b[0;34m\"local\"\u001b[0m\u001b[0;34m)\u001b[0m\u001b[0;34m.\u001b[0m\u001b[0msetAppName\u001b[0m\u001b[0;34m(\u001b[0m\u001b[0;34m\"Project 2: Recommender System\"\u001b[0m\u001b[0;34m)\u001b[0m\u001b[0;34m\u001b[0m\u001b[0m\n\u001b[0;32m---> 12\u001b[0;31m \u001b[0msc\u001b[0m \u001b[0;34m=\u001b[0m \u001b[0mSparkContext\u001b[0m\u001b[0;34m(\u001b[0m\u001b[0mconf\u001b[0m \u001b[0;34m=\u001b[0m \u001b[0mconf\u001b[0m\u001b[0;34m)\u001b[0m\u001b[0;34m\u001b[0m\u001b[0m\n\u001b[0m",
      "\u001b[0;32m/usr/local/spark-2.0.0-bin-hadoop2.6/python/pyspark/context.py\u001b[0m in \u001b[0;36m__init__\u001b[0;34m(self, master, appName, sparkHome, pyFiles, environment, batchSize, serializer, conf, gateway, jsc, profiler_cls)\u001b[0m\n\u001b[1;32m    110\u001b[0m         \"\"\"\n\u001b[1;32m    111\u001b[0m         \u001b[0mself\u001b[0m\u001b[0;34m.\u001b[0m\u001b[0m_callsite\u001b[0m \u001b[0;34m=\u001b[0m \u001b[0mfirst_spark_call\u001b[0m\u001b[0;34m(\u001b[0m\u001b[0;34m)\u001b[0m \u001b[0;32mor\u001b[0m \u001b[0mCallSite\u001b[0m\u001b[0;34m(\u001b[0m\u001b[0;32mNone\u001b[0m\u001b[0;34m,\u001b[0m \u001b[0;32mNone\u001b[0m\u001b[0;34m,\u001b[0m \u001b[0;32mNone\u001b[0m\u001b[0;34m)\u001b[0m\u001b[0;34m\u001b[0m\u001b[0m\n\u001b[0;32m--> 112\u001b[0;31m         \u001b[0mSparkContext\u001b[0m\u001b[0;34m.\u001b[0m\u001b[0m_ensure_initialized\u001b[0m\u001b[0;34m(\u001b[0m\u001b[0mself\u001b[0m\u001b[0;34m,\u001b[0m \u001b[0mgateway\u001b[0m\u001b[0;34m=\u001b[0m\u001b[0mgateway\u001b[0m\u001b[0;34m)\u001b[0m\u001b[0;34m\u001b[0m\u001b[0m\n\u001b[0m\u001b[1;32m    113\u001b[0m         \u001b[0;32mtry\u001b[0m\u001b[0;34m:\u001b[0m\u001b[0;34m\u001b[0m\u001b[0m\n\u001b[1;32m    114\u001b[0m             self._do_init(master, appName, sparkHome, pyFiles, environment, batchSize, serializer,\n",
      "\u001b[0;32m/usr/local/spark-2.0.0-bin-hadoop2.6/python/pyspark/context.py\u001b[0m in \u001b[0;36m_ensure_initialized\u001b[0;34m(cls, instance, gateway)\u001b[0m\n\u001b[1;32m    257\u001b[0m                         \u001b[0;34m\" created by %s at %s:%s \"\u001b[0m\u001b[0;34m\u001b[0m\u001b[0m\n\u001b[1;32m    258\u001b[0m                         % (currentAppName, currentMaster,\n\u001b[0;32m--> 259\u001b[0;31m                             callsite.function, callsite.file, callsite.linenum))\n\u001b[0m\u001b[1;32m    260\u001b[0m                 \u001b[0;32melse\u001b[0m\u001b[0;34m:\u001b[0m\u001b[0;34m\u001b[0m\u001b[0m\n\u001b[1;32m    261\u001b[0m                     \u001b[0mSparkContext\u001b[0m\u001b[0;34m.\u001b[0m\u001b[0m_active_spark_context\u001b[0m \u001b[0;34m=\u001b[0m \u001b[0minstance\u001b[0m\u001b[0;34m\u001b[0m\u001b[0m\n",
      "\u001b[0;31mValueError\u001b[0m: Cannot run multiple SparkContexts at once; existing SparkContext(app=Project 2: Recommender System, master=local) created by __init__ at <ipython-input-1-cffe10b8ac6f>:12 "
     ]
    }
   ],
   "source": [
    "# Import libraries\n",
    "import findspark\n",
    "findspark.init()\n",
    "\n",
    "from pyspark.mllib.recommendation import *\n",
    "from pyspark import SparkConf, SparkContext\n",
    "import random\n",
    "from operator import *\n",
    "from collections import defaultdict\n",
    "\n",
    "conf = SparkConf().setMaster(\"local\").setAppName(\"Project 2: Recommender System\")\n",
    "sc = SparkContext(conf = conf)"
   ]
  },
  {
   "cell_type": "markdown",
   "metadata": {},
   "source": [
    "## Loading data\n",
    "\n",
    "Load the three datasets into RDDs and name them `artistData`, `artistAlias`, and `userArtistData`. View the README, or the files themselves, to see how this data is formated. Some of the files have tab delimeters while some have space delimiters. Make sure that your `userArtistData` RDD contains only the canonical artist IDs."
   ]
  },
  {
   "cell_type": "code",
   "execution_count": 58,
   "metadata": {
    "collapsed": true
   },
   "outputs": [],
   "source": [
    "# Import test files from location into RDD (variables)\n",
    "# YOUR CODE GOES HERE\n",
    "user_artist = sc.textFile(\"data_raw/user_artist_data_small.txt\")\n",
    "artist_data = sc.textFile(\"data_raw/artist_data_small.txt\")\n",
    "artist_alias = sc.textFile(\"data_raw/artist_alias_small.txt\")"
   ]
  },
  {
   "cell_type": "markdown",
   "metadata": {},
   "source": [
    "## Data Exploration\n",
    "\n",
    "In the blank below, write some code that with find the users' total play counts. Find the three users with the highest number of total play counts (sum of all counters) and print the user ID, the total play count, and the mean play count (average number of times a user played an artist). Your output should look as follows:\n",
    "```\n",
    "User 1059637 has a total play count of 674412 and a mean play count of 1878.\n",
    "User 2064012 has a total play count of 548427 and a mean play count of 9455.\n",
    "User 2069337 has a total play count of 393515 and a mean play count of 1519.\n",
    "```\n",
    "\n"
   ]
  },
  {
   "cell_type": "code",
   "execution_count": 59,
   "metadata": {},
   "outputs": [
    {
     "name": "stdout",
     "output_type": "stream",
     "text": [
      "User 1059637 has a total play count of 674412 and a mean play count of 1878\n",
      "User 2064012 has a total play count of 548427 and a mean play count of 9455\n",
      "User 2069337 has a total play count of 393515 and a mean play count of 1519\n"
     ]
    }
   ],
   "source": [
    "# Split a sequence into seperate entities and store as int\n",
    "# YOUR CODE GOES HERE\n",
    "userArtist = user_artist.map(lambda x: x.split())\n",
    "userArtist = userArtist.map(lambda x: [int(i) for i in x])\n",
    "\n",
    "# Create a dictionary of the 'artistAlias' dataset\n",
    "# YOUR CODE GOES HERE\n",
    "artistAlias = artist_alias.map(lambda x: x.split())\n",
    "bad_id = artistAlias.map(lambda x: int(x[0])).collect()\n",
    "good_id = artistAlias.map(lambda x: int(x[1])).collect()\n",
    "dictionary = dict(zip(bad_id, good_id))\n",
    "\n",
    "# If artistid exists, replace with artistsid from artistAlias, else retain original\n",
    "# YOUR CODE GOES HERE\n",
    "userArtistReplaced = userArtist.map(lambda x: [x[0], dictionary.get(x[1], x[1]), x[2]])\n",
    "\n",
    "# Create an RDD consisting of 'userid' and 'playcount' objects of original tuple\n",
    "# YOUR CODE GOES HERE\n",
    "uid_count = userArtist.map(lambda x: [x[0], x[2]])\n",
    "\n",
    "# Count instances by key and store in broadcast variable\n",
    "# YOUR CODE GOES HERE\n",
    "broadcast = uid_count.groupByKey().mapValues(list)\n",
    "broadcast = broadcast.map(lambda x: [x[0], len(x[1])])\n",
    "\n",
    "# Compute and display users with the highest playcount along with their mean playcount across artists\n",
    "# YOUR CODE GOES HERE\n",
    "playcount = uid_count.groupByKey().mapValues(list)\n",
    "playcount = playcount.map(lambda x: [x[0], sum(x[1]), int(sum(x[1])/len(x[1]))])\n",
    "top_3 = playcount.top(3, key=lambda x: x[1])\n",
    "for user in top_3:\n",
    "    print(\"User \" + str(user[0]) + \" has a total play count of \" + str(user[1]) + \" and a mean play count of \" + str(user[2]))\n"
   ]
  },
  {
   "cell_type": "markdown",
   "metadata": {
    "collapsed": true
   },
   "source": [
    "####  Splitting Data for Testing\n",
    "\n",
    "Use the [randomSplit](http://spark.apache.org/docs/latest/api/python/pyspark.html#pyspark.RDD.randomSplit) function to divide the data (`userArtistData`) into:\n",
    "* A training set, `trainData`, that will be used to train the model. This set should constitute 40% of the data.\n",
    "* A validation set, `validationData`, used to perform parameter tuning. This set should constitute 40% of the data.\n",
    "* A test set, `testData`, used for a final evaluation of the model. This set should constitute 20% of the data.\n",
    "\n",
    "Use a random seed value of 13. Since these datasets will be repeatedly used you will probably want to persist them in memory using the [cache](http://spark.apache.org/docs/latest/api/python/pyspark.html#pyspark.RDD.cache) function.\n",
    "\n",
    "In addition, print out the first 3 elements of each set as well as their sizes; if you created these sets correctly, your output should look like the following:\n",
    "```\n",
    "[(1059637, 1000049, 1), (1059637, 1000056, 1), (1059637, 1000114, 2)]\n",
    "[(1059637, 1000010, 238), (1059637, 1000062, 11), (1059637, 1000123, 2)]\n",
    "[(1059637, 1000094, 1), (1059637, 1000112, 423), (1059637, 1000113, 5)]\n",
    "19761\n",
    "19862\n",
    "9858\n",
    "```"
   ]
  },
  {
   "cell_type": "code",
   "execution_count": 60,
   "metadata": {},
   "outputs": [
    {
     "name": "stdout",
     "output_type": "stream",
     "text": [
      "[[1059637, 1000049, 1], [1059637, 1000056, 1], [1059637, 1000114, 2]]\n",
      "[[1059637, 1000010, 238], [1059637, 1000062, 11], [1059637, 1000123, 2]]\n",
      "[[1059637, 1000094, 1], [1059637, 1000112, 423], [1059637, 1000113, 5]]\n",
      "19761\n",
      "19862\n",
      "9858\n"
     ]
    }
   ],
   "source": [
    "# Split the 'userArtistData' dataset into training, validation and test datasets. Store in cache for frequent access\n",
    "# YOUR CODE GOES HERE\n",
    "trainData, validationData, testData = userArtist.randomSplit([0.4, 0.4, 0.2], 13)\n",
    "trainData.cache()\n",
    "validationData.cache()\n",
    "testData.cache()\n",
    "# Display the first 3 records of each dataset followed by the total count of records for each datasets\n",
    "# YOUR CODE GOES HERE\n",
    "print(trainData.take(3))\n",
    "print(validationData.take(3))\n",
    "print(testData.take(3))\n",
    "print(trainData.count())\n",
    "print(validationData.count())\n",
    "print(testData.count())"
   ]
  },
  {
   "cell_type": "markdown",
   "metadata": {},
   "source": [
    "## The Recommender Model\n",
    "\n",
    "For this project, we will train the model with implicit feedback. You can read more information about this from the collaborative filtering page: [http://spark.apache.org/docs/latest/mllib-collaborative-filtering.html](http://spark.apache.org/docs/latest/mllib-collaborative-filtering.html). The [function you will be using](http://spark.apache.org/docs/latest/api/python/pyspark.mllib.html#pyspark.mllib.recommendation.ALS.trainImplicit) has a few tunable parameters that will affect how the model is built. Therefore, to get the best model, we will do a small parameter sweep and choose the model that performs the best on the validation set\n",
    "\n",
    "Therefore, we must first devise a way to evaluate models. Once we have a method for evaluation, we can run a parameter sweep, evaluate each combination of parameters on the validation data, and choose the optimal set of parameters. The parameters then can be used to make predictions on the test data.\n",
    "\n",
    "### Model Evaluation\n",
    "\n",
    "Although there may be several ways to evaluate a model, we will use a simple method here. Suppose we have a model and some dataset of *true* artist plays for a set of users. This model can be used to predict the top X artist recommendations for a user and these recommendations can be compared the artists that the user actually listened to (here, X will be the number of artists in the dataset of *true* artist plays). Then, the fraction of overlap between the top X predictions of the model and the X artists that the user actually listened to can be calculated. This process can be repeated for all users and an average value returned.\n",
    "\n",
    "For example, suppose a model predicted [1,2,4,8] as the top X=4 artists for a user. Suppose, that user actually listened to the artists [1,3,7,8]. Then, for this user, the model would have a score of 2/4=0.5. To get the overall score, this would be performed for all users, with the average returned.\n",
    "\n",
    "**NOTE: when using the model to predict the top-X artists for a user, do not include the artists listed with that user in the training data.**\n",
    "\n",
    "Name your function `modelEval` and have it take a model (the output of ALS.trainImplicit) and a dataset as input. For parameter tuning, the dataset parameter should be set to the validation data (`validationData`). After parameter tuning, the model can be evaluated on the test data (`testData`)."
   ]
  },
  {
   "cell_type": "code",
   "execution_count": 61,
   "metadata": {
    "collapsed": true
   },
   "outputs": [],
   "source": [
    "def modelEval(model, dataset):\n",
    "    \n",
    "    # All artists in the 'userArtistData' dataset\n",
    "    # YOUR CODE GOES HERE\n",
    "    all_artists = userArtist.map(lambda x: x[1])\n",
    "    \n",
    "    # Set of all users in the current (Validation/Testing) dataset\n",
    "    # YOUR CODE GOES HERE\n",
    "    users = set(dataset.map(lambda x: x[0]).collect())\n",
    "\n",
    "    # Create a dictionary of (key, values) for current (Validation/Testing) dataset\n",
    "    # YOUR CODE GOES HERE\n",
    "    validation = dataset.map(lambda x: [x[0], x[1]])\n",
    "    groups = validation.groupByKey().mapValues(list)\n",
    "    validation = dict(groups.collect())\n",
    "\n",
    "    # Create a dictionary of (key, values) for training dataset\n",
    "    # YOUR CODE GOES HERE\n",
    "    train = trainData.map(lambda x: [x[0], x[1]])\n",
    "    groups = train.groupByKey().mapValues(list)\n",
    "    train = dict(groups.collect())\n",
    "    avg_score = 0\n",
    "    \n",
    "    # For each user, calculate the prediction score i.e. similarity between predicted and actual artists\n",
    "    # YOUR CODE GOES HERE\n",
    "    for user in users:\n",
    "        train_artists = train.get(user)\n",
    "        actual_artists = validation.get(user)\n",
    "        user_rdd = sc.parallelize([user])\n",
    "        cart = user_rdd.cartesian(all_artists)\n",
    "        predicted_artists = model.predictAll(cart).distinct()\n",
    "        pred_sorted = predicted_artists.sortBy(ascending = False, keyfunc = lambda x: x[2])  # For each user, sort by rating\n",
    "        pred_artists = pred_sorted.map(lambda x: x[1]).filter(lambda x: x not in train_artists).take(len(train_artists))\n",
    "        correct_pred = set(pred_artists).intersection(actual_artists)\n",
    "        avg_score += float(len(correct_pred)/len(actual_artists))\n",
    "        \n",
    "    return avg_score/len(validation)\n",
    "        \n",
    "    # Print average score of the model for all users for the specified rank\n",
    "    # YOUR CODE GOES HERE"
   ]
  },
  {
   "cell_type": "markdown",
   "metadata": {},
   "source": [
    "### Model Construction\n",
    "\n",
    "Now we can build the best model possibly using the validation set of data and the `modelEval` function. Although, there are a few parameters we could optimize, for the sake of time, we will just try a few different values for the [rank parameter](http://spark.apache.org/docs/latest/mllib-collaborative-filtering.html#collaborative-filtering) (leave everything else at its default value, **except make `seed`=345**). Loop through the values [2, 10, 20] and figure out which one produces the highest scored based on your model evaluation function.\n",
    "\n",
    "Note: this procedure may take several minutes to run.\n",
    "\n",
    "For each rank value, print out the output of the `modelEval` function for that model. Your output should look as follows:\n",
    "```\n",
    "The model score for rank 2 is ~0.090431\n",
    "The model score for rank 10 is ~0.095294\n",
    "The model score for rank 20 is ~0.090248\n",
    "```\n",
    "Step below takes 2 minutes to run. Uncomment to if you wish to run and calculate model score. "
   ]
  },
  {
   "cell_type": "code",
   "execution_count": 62,
   "metadata": {
    "scrolled": true
   },
   "outputs": [
    {
     "name": "stdout",
     "output_type": "stream",
     "text": [
      "The model score for rank  2  is ~ 0.08092357445086523\n",
      "The model score for rank  10  is ~ 0.09041056954182868\n",
      "The model score for rank  20  is ~ 0.08454876761524614\n"
     ]
    }
   ],
   "source": [
    "rankList = [2, 10, 20]\n",
    "for rank in rankList:\n",
    "    model = ALS.trainImplicit(trainData, rank , seed=345)\n",
    "    score = modelEval(model,validationData)\n",
    "    print(\"The model score for rank \", rank, \" is ~\",score)"
   ]
  },
  {
   "cell_type": "markdown",
   "metadata": {},
   "source": [
    "Now, using the bestModel, we will check the results over the test data. Your result should be ~`0.0507`.  \n",
    "Step below takes 1 minute to run. Uncomment last line if you wish to run and calculate model score. "
   ]
  },
  {
   "cell_type": "code",
   "execution_count": 88,
   "metadata": {},
   "outputs": [
    {
     "name": "stdout",
     "output_type": "stream",
     "text": [
      "0.09539453297798227\n"
     ]
    }
   ],
   "source": [
    "bestModel = ALS.trainImplicit(trainData, rank=10, seed=345)\n",
    "best_score = modelEval(bestModel, testData)\n",
    "print(best_score)"
   ]
  },
  {
   "cell_type": "markdown",
   "metadata": {},
   "source": [
    "## Trying Some Artist Recommendations\n",
    "Using the best model above, predict the top 5 artists for user `1059637` using the [recommendProducts](http://spark.apache.org/docs/1.5.2/api/python/pyspark.mllib.html#pyspark.mllib.recommendation.MatrixFactorizationModel.recommendProducts) function. Map the results (integer IDs) into the real artist name using `artistAlias`. Print the results. The output should look as follows:\n",
    "```\n",
    "Artist 0: My Chemical Romance\n",
    "Artist 1: Something Corporate\n",
    "Artist 2: Evanescence\n",
    "Artist 3: Alanis Morissette\n",
    "Artist 4: Counting Crows\n",
    "```"
   ]
  },
  {
   "cell_type": "code",
   "execution_count": 87,
   "metadata": {},
   "outputs": [
    {
     "name": "stdout",
     "output_type": "stream",
     "text": [
      "Artist  0 :  My Chemical Romance\n",
      "Artist  1 :  Something Corporate\n",
      "Artist  2 :  Evanescence\n",
      "Artist  3 :  Alanis Morissette\n",
      "Artist  4 :  Counting Crows\n"
     ]
    }
   ],
   "source": [
    "# Find the top 5 artists for a particular user and list their names\n",
    "# YOUR CODE GOES HERE\n",
    "recommendations = bestModel.recommendProducts(1059637, 5)\n",
    "artist_names = artist_data.map(lambda x: x.split()).map(lambda x: [int(x[0]), ' '.join(x[1:])]);\n",
    "for i, recommendation in enumerate(recommendations):\n",
    "    name = artist_names.filter(lambda x: x[0] == recommendation.product).collect()[0][1]\n",
    "    print(\"Artist \", i, \": \", name)"
   ]
  },
  {
   "cell_type": "code",
   "execution_count": null,
   "metadata": {
    "collapsed": true
   },
   "outputs": [],
   "source": []
  }
 ],
 "metadata": {
  "kernelspec": {
   "display_name": "Python 3",
   "language": "python",
   "name": "python3"
  },
  "language_info": {
   "codemirror_mode": {
    "name": "ipython",
    "version": 3
   },
   "file_extension": ".py",
   "mimetype": "text/x-python",
   "name": "python",
   "nbconvert_exporter": "python",
   "pygments_lexer": "ipython3",
   "version": "3.5.2"
  }
 },
 "nbformat": 4,
 "nbformat_minor": 2
}
